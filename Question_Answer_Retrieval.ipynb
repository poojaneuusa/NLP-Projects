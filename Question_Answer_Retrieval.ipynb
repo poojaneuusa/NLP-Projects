{
  "cells": [
    {
      "cell_type": "markdown",
      "metadata": {
        "id": "view-in-github",
        "colab_type": "text"
      },
      "source": [
        "<a href=\"https://colab.research.google.com/github/poojaneuusa/NLP-Projects/blob/main/Question_Answer_Retrieval.ipynb\" target=\"_parent\"><img src=\"https://colab.research.google.com/assets/colab-badge.svg\" alt=\"Open In Colab\"/></a>"
      ]
    },
    {
      "cell_type": "code",
      "execution_count": null,
      "metadata": {
        "id": "YPgBaR1UES-5"
      },
      "outputs": [],
      "source": [
        "!pip install -U sentence-transformers"
      ]
    },
    {
      "cell_type": "code",
      "execution_count": null,
      "metadata": {
        "id": "Vh4bJz_kEnwa"
      },
      "outputs": [],
      "source": [
        "from sentence_transformers import SentenceTransformer, util\n",
        "import os\n",
        "import json\n",
        "import gzip"
      ]
    },
    {
      "cell_type": "code",
      "execution_count": null,
      "metadata": {
        "id": "QSoCpyuFErFJ"
      },
      "outputs": [],
      "source": [
        "util.http_get('https://public.ukp.informatik.tu-darmstadt.de/reimers/sentence-transformers/datasets/simplewiki-2020-11-01.jsonl.gz', 'simplewiki-2020-11-01.jsonl.gz')"
      ]
    },
    {
      "cell_type": "code",
      "execution_count": null,
      "metadata": {
        "id": "JVZoGwWgEtS5"
      },
      "outputs": [],
      "source": [
        "model = SentenceTransformer('nq-distilbert-base-v1')"
      ]
    },
    {
      "cell_type": "code",
      "execution_count": null,
      "metadata": {
        "id": "t5sincrIEvaD"
      },
      "outputs": [],
      "source": [
        "passages = []\n",
        "with gzip.open('simplewiki-2020-11-01.jsonl.gz', 'rt', encoding='utf8') as file:\n",
        "  for line in file:\n",
        "    data = json.loads(line.strip())\n",
        "    # print(data)\n",
        "    for paragraph in data['paragraphs']:\n",
        "      passages.append([data['title'], paragraph])\n",
        "    # break"
      ]
    },
    {
      "cell_type": "code",
      "execution_count": null,
      "metadata": {
        "colab": {
          "base_uri": "https://localhost:8080/"
        },
        "id": "SXjdl1w8ExHV",
        "outputId": "3e127dfb-09be-4b83-bdfb-46520f8359f6"
      },
      "outputs": [
        {
          "output_type": "execute_result",
          "data": {
            "text/plain": [
              "509663"
            ]
          },
          "metadata": {},
          "execution_count": 6
        }
      ],
      "source": [
        "len(passages)"
      ]
    },
    {
      "cell_type": "code",
      "execution_count": null,
      "metadata": {
        "id": "hdbLhyHwEx_q"
      },
      "outputs": [],
      "source": [
        "from random import shuffle\n",
        "shuffle(passages)"
      ]
    },
    {
      "cell_type": "code",
      "execution_count": null,
      "metadata": {
        "id": "0fbs5ewSE1Ar"
      },
      "outputs": [],
      "source": [
        "passages = passages[0:100_000]"
      ]
    },
    {
      "cell_type": "code",
      "execution_count": null,
      "metadata": {
        "id": "r_RlWwmfE2cM"
      },
      "outputs": [],
      "source": [
        "corpus_embeddings = model.encode(passages, convert_to_tensor=True, show_progress_bar=True)"
      ]
    },
    {
      "cell_type": "code",
      "execution_count": null,
      "metadata": {
        "id": "In5vj6j2E4Y4"
      },
      "outputs": [],
      "source": [
        "def get_answer(query):\n",
        "\n",
        "  question_embedding = model.encode(query, convert_to_tensor=True)\n",
        "  hits = util.semantic_search(question_embedding, corpus_embeddings, top_k=3)[0]\n",
        "\n",
        "  print(\"Results:\")\n",
        "  for hit in hits:\n",
        "    print(passages[hit['corpus_id']])"
      ]
    },
    {
      "cell_type": "code",
      "execution_count": null,
      "metadata": {
        "id": "SpyD2uaOE6E4",
        "colab": {
          "base_uri": "https://localhost:8080/"
        },
        "outputId": "561b1720-cc13-417e-f75b-dc89210e9612"
      },
      "outputs": [
        {
          "output_type": "stream",
          "name": "stdout",
          "text": [
            "Results:\n",
            "['OCaml', 'Objective Caml (OCaml) is a programming language which is a dialect of ML (programming language). It extends the Caml language so object-oriented programming can be used.']\n",
            "['Standard ML', 'Standard ML is a functional programming language which is a dialect of ML (programming language). It is sometimes used for writing compilers and in theorem provers.']\n",
            "['Litre', 'A litre (international spelling) or liter (American spelling) is one of the metric units of volume. It is not an SI unit.']\n"
          ]
        }
      ],
      "source": [
        "get_answer(\"what is the ML?\")"
      ]
    },
    {
      "cell_type": "code",
      "execution_count": null,
      "metadata": {
        "id": "Tu9jMvOLE749",
        "colab": {
          "base_uri": "https://localhost:8080/"
        },
        "outputId": "b2ea47cd-dde5-452f-c39a-1e57a6a9e7fe"
      },
      "outputs": [
        {
          "output_type": "stream",
          "name": "stdout",
          "text": [
            "Results:\n",
            "['World War I', 'World War I (WWI or WW1), also called the First World War, began on July 28, 1914 and lasted until November 11, 1918. The war was a global war that lasted exactly . Most of the fighting was in Europe, but soldiers from many other countries took part, and it changed the colonial empires of the European powers. Before World War II began in 1939, World War I was called the Great War or the World War. 135 countries took part in World War I, and nearly 10 million people died while fighting.']\n",
            "['History of the world', 'On November 11, 1918, Germany signed the armistice, meaning \"the laying down of arms\", to end the war. After the war ended, the Treaty of Versailles was written and Germany was made to sign it. They had to pay $33 million in reparations (payment for damage). The influenza pandemic of 1918 spread around the world, killing millions.']\n",
            "['World War I', \"Before the war, European countries had formed alliances with each other to protect themselves. However, by doing this they had divided themselves into two groups. When Archduke Franz Ferdinand of Austria was assassinated on 28 June 1914, Austria-Hungary blamed Serbia and declared war on them. Serbia's ally Russia then declared war on Austria-Hungary. This set off a chain of events in which the two groups of countries declared war on each other. The two sides were the Allied Powers (mainly Russia, France and the British Empire) and the Central Powers (mainly Germany, Austria-Hungary and the Ottoman Empire).\"]\n"
          ]
        }
      ],
      "source": [
        "get_answer(\"when did the first world war end?\")"
      ]
    }
  ],
  "metadata": {
    "colab": {
      "provenance": [],
      "gpuType": "T4",
      "authorship_tag": "ABX9TyNynE92/ycFJ/mequWJyO/p",
      "include_colab_link": true
    },
    "kernelspec": {
      "display_name": "Python 3",
      "name": "python3"
    },
    "language_info": {
      "name": "python"
    },
    "accelerator": "GPU"
  },
  "nbformat": 4,
  "nbformat_minor": 0
}